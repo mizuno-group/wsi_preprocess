{
 "cells": [
  {
   "cell_type": "code",
   "execution_count": 1,
   "metadata": {},
   "outputs": [],
   "source": [
    "import sys, os\n",
    "sys.path.append(\"..\")\n",
    "import numpy as np\n",
    "import matplotlib.pyplot as plt\n",
    "import matplotlib.colors as mcolors\n",
    "from openslide import OpenSlide\n",
    "from saturation_otsu import get_slice_idx\n",
    "\n",
    "colors = []\n",
    "for color_code in mcolors.TABLEAU_COLORS.values():\n",
    "    colors.append(np.array([int(color_code[1:3], 16), int(color_code[3:5], 16), int(color_code[5:7], 16)]))"
   ]
  },
  {
   "cell_type": "code",
   "execution_count": null,
   "metadata": {},
   "outputs": [],
   "source": [
    "image_file = \"normal_001.tif\"\n",
    "sample_ratio = 0.03\n",
    "patch_size = 256"
   ]
  },
  {
   "cell_type": "code",
   "execution_count": 5,
   "metadata": {},
   "outputs": [
    {
     "name": "stdout",
     "output_type": "stream",
     "text": [
      "n_slice: 2\n"
     ]
    },
    {
     "data": {
      "text/plain": [
       "<matplotlib.image.AxesImage at 0x7f41615b8850>"
      ]
     },
     "execution_count": 5,
     "metadata": {},
     "output_type": "execute_result"
    },
    {
     "data": {
      "image/png": "[encoded data removed]",
      "text/plain": [
       "<Figure size 432x288 with 1 Axes>"
      ]
     },
     "metadata": {
      "needs_background": "light"
     },
     "output_type": "display_data"
    }
   ],
   "source": [
    "# いくつかの切片からなるWSI画像を, それぞれの切片に分ける。\n",
    "slice_idx, n_slice = get_slice_idx(image_file=image_file, \n",
    "    patch_size=patch_size)\n",
    "print(f\"n_slice: {n_slice}\")\n",
    "\n",
    "slice_image = np.full((slice_idx.shape[0], slice_idx.shape[1], 3), fill_value=255)\n",
    "for i_slice in range(n_slice):\n",
    "    slice_image[slice_idx == i_slice] = colors[i_slice%len(colors)]\n",
    "\n",
    "plt.imshow(slice_image)"
   ]
  },
  {
   "cell_type": "code",
   "execution_count": null,
   "metadata": {},
   "outputs": [],
   "source": []
  }
 ],
 "metadata": {
  "kernelspec": {
   "display_name": "base",
   "language": "python",
   "name": "python3"
  },
  "language_info": {
   "codemirror_mode": {
    "name": "ipython",
    "version": 3
   },
   "file_extension": ".py",
   "mimetype": "text/x-python",
   "name": "python",
   "nbconvert_exporter": "python",
   "pygments_lexer": "ipython3",
   "version": "3.7.13 (default, Mar 29 2022, 02:18:16) \n[GCC 7.5.0]"
  },
  "orig_nbformat": 4,
  "vscode": {
   "interpreter": {
    "hash": "d4d1e4263499bec80672ea0156c357c1ee493ec2b1c70f0acce89fc37c4a6abe"
   }
  }
 },
 "nbformat": 4,
 "nbformat_minor": 2
}
